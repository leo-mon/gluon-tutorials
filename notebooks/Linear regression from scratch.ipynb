{
 "cells": [
  {
   "cell_type": "markdown",
   "metadata": {},
   "source": [
    "せっかくだし泥臭くスクラッチで組んでみないか？"
   ]
  },
  {
   "cell_type": "code",
   "execution_count": 1,
   "metadata": {
    "collapsed": true
   },
   "outputs": [],
   "source": [
    "import mxnet as mx\n",
    "from mxnet import nd, autograd\n",
    "import numpy as np"
   ]
  },
  {
   "cell_type": "markdown",
   "metadata": {},
   "source": [
    "# Linear regression\n",
    "データのあつまりをX, ターゲットの値をy  \n",
    "wとbをうまく選んでX[i]とy[i]が程よくマッチするようにする  \n",
    "数式で表すと\n",
    "$$\n",
    "\\hat{y} = X \\cdot w + b\n",
    "$$\n",
    "これについて\n",
    "$$\n",
    "\\sum_{i=1}^{n} \\left( \\hat{y_i} - y_i \\right)^2\n",
    "$$\n",
    "を最小化することを目指す"
   ]
  },
  {
   "cell_type": "markdown",
   "metadata": {},
   "source": [
    "線形回帰は使い古されたモデルだが、もっともシンプルなNNの一種となる  \n",
    "通常NNはエッジからの値の層への集約を行い、ノードに対しては重み付けと活性化関数が付与されることになる  \n",
    "線形回帰は2層、インプットとアウトプット、活性化関数は判別の関数。\n",
    "\n",
    "単純化のためデータは合成する。ランダムにX[i]を生成、ラベルにはy[i] = 2 * X[i][0]- 3.4 * X[i][1] + 4.2 + noise を利用（ノイズは0から1のガウシアンノイズ）\n",
    "数学的には\n",
    "$$\n",
    "y = X \\cdot w + b + \\eta, for \\eta ~ N(0, \\sigma^2)\n",
    "$$\n",
    "と表される"
   ]
  },
  {
   "cell_type": "code",
   "execution_count": 2,
   "metadata": {
    "collapsed": true
   },
   "outputs": [],
   "source": [
    "X = np.random.randn(10000,2)  # 10000行2列\n",
    "y = 2* X[:,0] - 3.4 * X[:,1] + 4.2 + .01 * np.random.normal(size=10000)"
   ]
  },
  {
   "cell_type": "code",
   "execution_count": 3,
   "metadata": {},
   "outputs": [
    {
     "name": "stdout",
     "output_type": "stream",
     "text": [
      "[-0.33247053  0.04418807]\n",
      "3.38369329105\n",
      "[[-0.33247053  0.04418807]\n",
      " [-2.12010849  0.38218618]\n",
      " [ 1.369902   -1.03711456]\n",
      " ..., \n",
      " [-2.86317788 -0.22028833]\n",
      " [ 0.39984314 -1.12290449]\n",
      " [-0.67946568  0.03098766]]\n",
      "[-0.33247053 -2.12010849  1.369902   ..., -2.86317788  0.39984314\n",
      " -0.67946568]\n"
     ]
    }
   ],
   "source": [
    "print(X[0])\n",
    "print(y[0])\n",
    "print(X)\n",
    "print(X[:,0]) # 0列目だけスライス"
   ]
  },
  {
   "cell_type": "markdown",
   "metadata": {},
   "source": [
    "各x0, x1に対応する理想の値は、ある点に対しては"
   ]
  },
  {
   "cell_type": "code",
   "execution_count": 4,
   "metadata": {},
   "outputs": [
    {
     "name": "stdout",
     "output_type": "stream",
     "text": [
      "3.38481949636\n"
     ]
    }
   ],
   "source": [
    "print(2 * X[0,0] - 3.4 * X[0,1] + 4.2)"
   ]
  },
  {
   "cell_type": "markdown",
   "metadata": {},
   "source": [
    "X1に対するyの値をmatplotlibで描画すると"
   ]
  },
  {
   "cell_type": "code",
   "execution_count": 5,
   "metadata": {},
   "outputs": [
    {
     "data": {
      "image/png": "[encoded data removed]",
      "text/plain": [
       "<matplotlib.figure.Figure at 0x7fd39fe1ffd0>"
      ]
     },
     "metadata": {},
     "output_type": "display_data"
    }
   ],
   "source": [
    "import matplotlib.pyplot as plt\n",
    "plt.scatter(X[:,1],y)\n",
    "plt.show()"
   ]
  },
  {
   "cell_type": "markdown",
   "metadata": {},
   "source": [
    "# Data iterators\n",
    "NNでデータを扱うとき、データポイントを素早くインクリメントしていかなくてはならない\n",
    "またシャッフルのためバッチサイズkを取り出す必要もある  \n",
    "MXNetではデータのフェッチや操作にいい感じのユーティリティが存在、今回はシンプルな`NDArrayIter`クラスを利用"
   ]
  },
  {
   "cell_type": "code",
   "execution_count": 6,
   "metadata": {
    "collapsed": true
   },
   "outputs": [],
   "source": [
    "batch_size = 4\n",
    "train_data = mx.io.NDArrayIter(X, y, batch_size, shuffle=True)"
   ]
  },
  {
   "cell_type": "markdown",
   "metadata": {},
   "source": [
    "一度NDArrayIterで初期化すれば（今回は`train_data`）、`train_data.next()`で簡単にバッチを取得できる。`batch.data`はインプットのリストを取得、今回はX１つのみなので、単に`batch.data[0]`を取得"
   ]
  },
  {
   "cell_type": "code",
   "execution_count": 7,
   "metadata": {},
   "outputs": [
    {
     "name": "stdout",
     "output_type": "stream",
     "text": [
      "\n",
      "[[-2.44363832 -0.02176208]\n",
      " [ 1.21170866  0.86364633]\n",
      " [ 1.26340783  0.33092213]\n",
      " [ 1.68694198 -0.32631958]]\n",
      "<NDArray 4x2 @cpu(0)>\n"
     ]
    }
   ],
   "source": [
    "batch = train_data.next()\n",
    "print(batch.data[0])"
   ]
  },
  {
   "cell_type": "markdown",
   "metadata": {},
   "source": [
    "ラベルの取得も可能\n",
    "> この場合多分第二引数に与えられてるyをラベルとしてみてるんだろう"
   ]
  },
  {
   "cell_type": "code",
   "execution_count": 8,
   "metadata": {},
   "outputs": [
    {
     "name": "stdout",
     "output_type": "stream",
     "text": [
      "\n",
      "[-0.59724915  3.68283987  5.59761429  8.6851263 ]\n",
      "<NDArray 4 @cpu(0)>\n"
     ]
    }
   ],
   "source": [
    "print(batch.label[0])"
   ]
  },
  {
   "cell_type": "markdown",
   "metadata": {},
   "source": [
    "`train_data` は通常のpythonのリストと同様にイテレートできる"
   ]
  },
  {
   "cell_type": "code",
   "execution_count": 9,
   "metadata": {},
   "outputs": [
    {
     "name": "stdout",
     "output_type": "stream",
     "text": [
      "2500\n"
     ]
    }
   ],
   "source": [
    "counter = 0\n",
    "train_data.reset()\n",
    "for i, batch in enumerate(train_data):\n",
    "    counter += 1\n",
    "print(counter)"
   ]
  },
  {
   "cell_type": "markdown",
   "metadata": {},
   "source": [
    "`train_data.reset()`はイテレータに、次の試行に備えてデータのリシャッフルを行うことを知らせる"
   ]
  },
  {
   "cell_type": "code",
   "execution_count": 10,
   "metadata": {},
   "outputs": [
    {
     "name": "stdout",
     "output_type": "stream",
     "text": [
      "0\n"
     ]
    }
   ],
   "source": [
    "# リセットを行わない場合\n",
    "counter = 0\n",
    "for i, batch in enumerate(train_data):\n",
    "    counter += 1\n",
    "print(counter)"
   ]
  },
  {
   "cell_type": "markdown",
   "metadata": {},
   "source": [
    "# Model parameters\n",
    "パラメータに初期値をセットしメモリの確保"
   ]
  },
  {
   "cell_type": "code",
   "execution_count": 11,
   "metadata": {
    "collapsed": true
   },
   "outputs": [],
   "source": [
    "w = nd.random_normal(shape=(2,1))\n",
    "b = nd.random_normal(shape=1)\n",
    "\n",
    "params = [w, b]"
   ]
  },
  {
   "cell_type": "markdown",
   "metadata": {},
   "source": [
    "これらのパラメータをデータにフィットするようにアップデートをかけていく。このとき、パラメータについての損失関数の勾配(多次元の導関数)を算出することになる。 \n",
    "この損失を減らす方向にそれぞれのパラメータについてアップデートをかけていくことになるが、ひとまずそれぞれの勾配に対してメモリを割り当てる"
   ]
  },
  {
   "cell_type": "code",
   "execution_count": 12,
   "metadata": {
    "collapsed": true
   },
   "outputs": [],
   "source": [
    "for param in params:\n",
    "    param.attach_grad()"
   ]
  },
  {
   "cell_type": "markdown",
   "metadata": {},
   "source": [
    "# Neural networks\n",
    "次にモデルを定義する。今回は単純かつ便利なNNである線形モデル  \n",
    "シンプルに重みをかけてオフセットbを加える"
   ]
  },
  {
   "cell_type": "code",
   "execution_count": 13,
   "metadata": {
    "collapsed": true
   },
   "outputs": [],
   "source": [
    "def net(X): \n",
    "    return nd.dot(X, w) + b"
   ]
  },
  {
   "cell_type": "markdown",
   "metadata": {},
   "source": [
    "# Loss function\n",
    "トレーニングはより良い結果を目指してモデルを構築するが、良いとは何かを定義しなくては始まらない  \n",
    "今回は予測と実際の値の平方距離を利用する"
   ]
  },
  {
   "cell_type": "code",
   "execution_count": 14,
   "metadata": {
    "collapsed": true
   },
   "outputs": [],
   "source": [
    "def square_loss(yhat, y): \n",
    "    return nd.mean((yhat - y) * (yhat-y))"
   ]
  },
  {
   "cell_type": "markdown",
   "metadata": {},
   "source": [
    "# Optimizer\n",
    "線形回帰には理想的な解決法があるが、実際のモデルは分析的に解けないものが大半となる。この解決法がSGD(確率的勾配降下法)　 \n",
    "それぞれのステップで、データセットからランダムに抽出されたバッチから、重みに対する損失関数の勾配を見積る。そしてパラメータを、損失を減らす方向へ少しだけアップデートする。  \n",
    "このステップの幅は学習率（`lr`）で決められる"
   ]
  },
  {
   "cell_type": "code",
   "execution_count": 15,
   "metadata": {
    "collapsed": true
   },
   "outputs": [],
   "source": [
    "def SGD(params, lr):    \n",
    "    for param in params:\n",
    "        param[:] = param - lr * param.grad"
   ]
  },
  {
   "cell_type": "markdown",
   "metadata": {},
   "source": [
    "# Execute training loop\n",
    "これで全ての要素が揃ったので、トレーニングループを書いて繋いでいく。 \n",
    "最初に`epoch`を定義する。エポックとは、データセットに対し何度試行を行うかの単位となる。  \n",
    "そしてそれぞれの試行で、`train_data`をイテレートし、値とそれに対するラベルのバッチを取得する。  \n",
    "それぞれのバッチでは、このようなプロセスを経る \n",
    "- 順方向に試行を行い予測(`yhat`)と損失(`loss`)を生成\n",
    "- 勾配を逆方向に試行を行い算出(`loss.backward()`)\n",
    "- パラメータをSGD Optimizerでアップデート"
   ]
  },
  {
   "cell_type": "code",
   "execution_count": 16,
   "metadata": {},
   "outputs": [
    {
     "name": "stdout",
     "output_type": "stream",
     "text": [
      "Epoch 0, batch 0. Moving avg of loss: 10.1425\n",
      "Epoch 0, batch 500. Moving avg of loss: 7.30707344012\n",
      "Epoch 0, batch 1000. Moving avg of loss: 1.02076610651\n",
      "Epoch 0, batch 1500. Moving avg of loss: 0.126681574122\n",
      "Epoch 0, batch 2000. Moving avg of loss: 0.0182369979743\n",
      "Epoch 1, batch 0. Moving avg of loss: 0.00074678\n",
      "Epoch 1, batch 500. Moving avg of loss: 0.000460506274704\n",
      "Epoch 1, batch 1000. Moving avg of loss: 0.000150913821133\n",
      "Epoch 1, batch 1500. Moving avg of loss: 0.000108784243971\n",
      "Epoch 1, batch 2000. Moving avg of loss: 9.61516196114e-05\n"
     ]
    }
   ],
   "source": [
    "epochs = 2\n",
    "ctx = mx.cpu()\n",
    "moving_loss = 0.\n",
    "\n",
    "for e in range(epochs):\n",
    "    train_data.reset()\n",
    "    for i, batch in enumerate(train_data):  # ここからバッチ処理\n",
    "        data = batch.data[0].as_in_context(ctx)\n",
    "        label = batch.label[0].as_in_context(ctx).reshape((-1,1)) # 要素数×1の行列に変換\n",
    "        with autograd.record():  # 計算グラフ利用開始\n",
    "            output = net(data)  #  順方向\n",
    "            loss = square_loss(output, label)   # 損失計算\n",
    "        loss.backward()  # 逆方向（勾配計算）\n",
    "        SGD(params, .001)  # W, bの値をずらす\n",
    "        \n",
    "        ##########################\n",
    "        #  Keep a moving average of the losses\n",
    "        ##########################\n",
    "        if i == 0:\n",
    "            moving_loss = np.mean(loss.asnumpy()[0])\n",
    "        else:\n",
    "            moving_loss = .99 * moving_loss + .01 * np.mean(loss.asnumpy()[0])\n",
    "            # 謎計算、誤差の処理？\n",
    "            \n",
    "        if i % 500 == 0:\n",
    "            print(\"Epoch %s, batch %s. Moving avg of loss: %s\" % (e, i, moving_loss))"
   ]
  },
  {
   "cell_type": "code",
   "execution_count": 20,
   "metadata": {},
   "outputs": [
    {
     "name": "stdout",
     "output_type": "stream",
     "text": [
      "\n",
      "[[  4.66727829]\n",
      " [ -0.15953016]\n",
      " [ -5.66586113]\n",
      " [ 11.29851913]]\n",
      "<NDArray 4x1 @cpu(0)>\n",
      "\n",
      "[[ 1.99996138]\n",
      " [-3.39984179]]\n",
      "<NDArray 2x1 @cpu(0)>\n",
      "\n",
      "[ 4.19983625]\n",
      "<NDArray 1 @cpu(0)>\n"
     ]
    }
   ],
   "source": [
    "print(w) # Ans: 2, -3.4\n",
    "print(b)  # Ans: 4.2"
   ]
  },
  {
   "cell_type": "markdown",
   "metadata": {},
   "source": [
    "（参考）reshape(-1)の動作：要素数を保ったまま行か列どちらk"
   ]
  },
  {
   "cell_type": "code",
   "execution_count": 17,
   "metadata": {},
   "outputs": [],
   "source": [
    "a = nd.array([[1,2,3],[4,5,6]])"
   ]
  },
  {
   "cell_type": "code",
   "execution_count": 18,
   "metadata": {},
   "outputs": [
    {
     "data": {
      "text/plain": [
       "\n",
       "[[ 1.]\n",
       " [ 2.]\n",
       " [ 3.]\n",
       " [ 4.]\n",
       " [ 5.]\n",
       " [ 6.]]\n",
       "<NDArray 6x1 @cpu(0)>"
      ]
     },
     "execution_count": 18,
     "metadata": {},
     "output_type": "execute_result"
    }
   ],
   "source": [
    "a.reshape((-1,1))"
   ]
  },
  {
   "cell_type": "code",
   "execution_count": null,
   "metadata": {
    "collapsed": true
   },
   "outputs": [],
   "source": []
  }
 ],
 "metadata": {
  "kernelspec": {
   "display_name": "Python 3",
   "language": "python",
   "name": "python3"
  },
  "language_info": {
   "codemirror_mode": {
    "name": "ipython",
    "version": 3
   },
   "file_extension": ".py",
   "mimetype": "text/x-python",
   "name": "python",
   "nbconvert_exporter": "python",
   "pygments_lexer": "ipython3",
   "version": "3.5.2"
  }
 },
 "nbformat": 4,
 "nbformat_minor": 2
}
