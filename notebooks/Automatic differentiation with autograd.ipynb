{
 "cells": [
  {
   "cell_type": "markdown",
   "metadata": {},
   "source": [
    "パラメータの増減に際しいちいちLossの再計算をするのはめんどう\n",
    "`autograd`パッケージは、自動微分の機能を提供することでこれを低減できる\n",
    "他の多くのパッケージでは自動微分にはコンパイルが必要だがmxnetではpytorchのように、宣言的に、通常のコード内に記述可能"
   ]
  },
  {
   "cell_type": "code",
   "execution_count": 1,
   "metadata": {
    "collapsed": true
   },
   "outputs": [],
   "source": [
    "import mxnet as mx\n",
    "import mxnet.ndarray  as nd\n",
    "import mxnet.autograd as ag # 0.10.0 （一応最新版）でもmxnet直下へはまだ取り込まれていない模様"
   ]
  },
  {
   "cell_type": "markdown",
   "metadata": {},
   "source": [
    "$$\n",
    "f = 2x^2\n",
    "$$\n",
    "のxについての微分について考える"
   ]
  },
  {
   "cell_type": "code",
   "execution_count": 2,
   "metadata": {
    "collapsed": true
   },
   "outputs": [],
   "source": [
    "x = mx.nd.array([[1,2],[3,4]])"
   ]
  },
  {
   "cell_type": "markdown",
   "metadata": {},
   "source": [
    "一度fのxについての傾きを計算すると、どこかにそれを保持しておく必要がある  \n",
    "mxnetでは`attach_grad()`メソッドで起動できる"
   ]
  },
  {
   "cell_type": "code",
   "execution_count": 3,
   "metadata": {},
   "outputs": [],
   "source": [
    "x.attach_grad()"
   ]
  },
  {
   "cell_type": "code",
   "execution_count": null,
   "metadata": {
    "collapsed": true
   },
   "outputs": [],
   "source": []
  }
 ],
 "metadata": {
  "kernelspec": {
   "display_name": "Python 3",
   "language": "python",
   "name": "python3"
  },
  "language_info": {
   "codemirror_mode": {
    "name": "ipython",
    "version": 3
   },
   "file_extension": ".py",
   "mimetype": "text/x-python",
   "name": "python",
   "nbconvert_exporter": "python",
   "pygments_lexer": "ipython3",
   "version": "3.5.2"
  }
 },
 "nbformat": 4,
 "nbformat_minor": 2
}
