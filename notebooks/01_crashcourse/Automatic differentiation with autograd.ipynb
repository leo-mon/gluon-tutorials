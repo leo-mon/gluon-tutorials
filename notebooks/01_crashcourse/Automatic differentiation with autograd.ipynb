{
 "cells": [
  {
   "cell_type": "markdown",
   "metadata": {},
   "source": [
    "パラメータの増減に際しいちいちLossの再計算をするのはめんどう\n",
    "`autograd`パッケージは、自動微分の機能を提供することでこれを低減できる\n",
    "他の多くのパッケージでは自動微分にはコンパイルが必要だがmxnetではpytorchのように、宣言的に、通常のコード内に記述可能"
   ]
  },
  {
   "cell_type": "code",
   "execution_count": 1,
   "metadata": {
    "collapsed": true
   },
   "outputs": [],
   "source": [
    "import mxnet as mx\n",
    "import mxnet.ndarray  as nd\n",
    "import mxnet.autograd as ag # 0.10.0 （一応最新版）でもmxnet直下へはまだ取り込まれていない模様"
   ]
  },
  {
   "cell_type": "markdown",
   "metadata": {},
   "source": [
    "# Attaching gradients\n",
    "\n",
    "$$\n",
    "f = 2x^2\n",
    "$$\n",
    "のxについての微分について考える"
   ]
  },
  {
   "cell_type": "code",
   "execution_count": 2,
   "metadata": {
    "collapsed": true
   },
   "outputs": [],
   "source": [
    "x = mx.nd.array([[1,2],[3,4]])"
   ]
  },
  {
   "cell_type": "markdown",
   "metadata": {},
   "source": [
    "一度fのxについての傾きを計算すると、どこかにそれを保持しておく必要がある  \n",
    "mxnetでは`attach_grad()`メソッドで起動できる"
   ]
  },
  {
   "cell_type": "code",
   "execution_count": 3,
   "metadata": {
    "collapsed": true
   },
   "outputs": [],
   "source": [
    "x.attach_grad()"
   ]
  },
  {
   "cell_type": "markdown",
   "metadata": {
    "collapsed": true
   },
   "source": [
    "この上でfを定義するとMXNetは計算グラフを自動生成する…あたかもレコーディングマシンを起動し、変数が生成された正しい経路をキャプチャするかのように\n",
    "計算グラフの生成には少なくない計算資源が必要となるため、明示的に宣言しないとMXNetはグラフを生成しない\n",
    "`with autograd.record()`によりレコーディングを開始する"
   ]
  },
  {
   "cell_type": "code",
   "execution_count": 4,
   "metadata": {
    "collapsed": true
   },
   "outputs": [],
   "source": [
    "with ag.record():\n",
    "    y = x * 2\n",
    "    z = y * x"
   ]
  },
  {
   "cell_type": "markdown",
   "metadata": {},
   "source": [
    "`z.backward()`で逆伝播の計算を行う\n",
    "zが複数のエントリーを持つとき、`z.backward()`は`mx.nd.sum(z).backward()` に相当する"
   ]
  },
  {
   "cell_type": "code",
   "execution_count": 5,
   "metadata": {
    "collapsed": true
   },
   "outputs": [],
   "source": [
    "z.backward()"
   ]
  },
  {
   "cell_type": "markdown",
   "metadata": {},
   "source": [
    "$$\n",
    "\\begin{align}\n",
    "y = 2x\\\\\n",
    "z = xy\n",
    "\\end{align}\n",
    "$$\n",
    "\n",
    "なので\n",
    "\n",
    "$$\n",
    "z = 2x^2\n",
    "$$\n",
    "\n",
    "$$\n",
    "\\begin{align}\n",
    "\\frac{dy}{dx} = 2 \\\\\n",
    "\\frac{dz}{dx} = 4x\n",
    "\\end{align}\n",
    "$$"
   ]
  },
  {
   "cell_type": "code",
   "execution_count": 6,
   "metadata": {},
   "outputs": [
    {
     "name": "stdout",
     "output_type": "stream",
     "text": [
      "\n",
      "[[  4.   8.]\n",
      " [ 12.  16.]]\n",
      "<NDArray 2x2 @cpu(0)>\n"
     ]
    }
   ],
   "source": [
    "print(x.grad)\n"
   ]
  },
  {
   "cell_type": "markdown",
   "metadata": {},
   "source": [
    "# Head gradients and the chain rule\n",
    "yがxの関数であるとき、xに対するyの導関数のみに関心がある。\n",
    "一方でzがxの関数であるときは、xに対するzの傾きのみに関心がある。\n",
    "連鎖則を用いると（TutorialだとTrain ruleになってる…雑）\n",
    "\n",
    "$$\n",
    "\\frac{dz}{dx} = \\frac{dz}{dy} \\frac{dy}{dx}\n",
    "$$\n",
    "\n",
    "yはzの一部と言え、`x.grad`にdz/dxを格納したいとき、先頭の傾きとしてdz/dyを`backward()`の入力として渡すことができる。デフォルトの引数は`nd.ones_like(y)`となる"
   ]
  },
  {
   "cell_type": "code",
   "execution_count": 7,
   "metadata": {},
   "outputs": [
    {
     "name": "stdout",
     "output_type": "stream",
     "text": [
      "\n",
      "[[ 40.           8.        ]\n",
      " [  1.20000005   0.16      ]]\n",
      "<NDArray 2x2 @cpu(0)>\n"
     ]
    }
   ],
   "source": [
    "with ag.record():\n",
    "    y = x * 2\n",
    "    z = y * x\n",
    "    \n",
    "head_gradient = nd.array([[10,1.],[.1,.01]])\n",
    "z.backward(head_gradient)\n",
    "print(x.grad)"
   ]
  },
  {
   "cell_type": "markdown",
   "metadata": {},
   "source": [
    "> わかりづらい原因はこれまでの説明文: xでの傾き(4,8,12,16)について、重み付けの行列(10,1,0.1,0.01)を渡せるよ、ということでいいのだと思う（多分） 何も指定しない場合は1が初期値になるという話"
   ]
  },
  {
   "cell_type": "markdown",
   "metadata": {},
   "source": [
    "基礎がわかったところで、Pythonicな制御フローでの計算例"
   ]
  },
  {
   "cell_type": "code",
   "execution_count": 8,
   "metadata": {},
   "outputs": [],
   "source": [
    "a = nd.random_normal(shape=3) # 1行3列、正規分布で初期化された配列\n",
    "a.attach_grad()\n",
    "\n",
    "with ag.record():\n",
    "    b = a * 2\n",
    "    while (nd.norm(b) < 1000).asscalar():  # 行列のL2ノルムが1000以下\n",
    "        b = b * 2\n",
    "        \n",
    "    if (mx.nd.sum(b) > 0).asscalar():\n",
    "        c = b\n",
    "    else:\n",
    "        c = 100 * b"
   ]
  },
  {
   "cell_type": "code",
   "execution_count": 9,
   "metadata": {
    "collapsed": true
   },
   "outputs": [],
   "source": [
    "head_gradient = nd.array([0.01,1.0,.1])\n",
    "c.backward(head_gradient)"
   ]
  },
  {
   "cell_type": "code",
   "execution_count": 10,
   "metadata": {},
   "outputs": [
    {
     "name": "stdout",
     "output_type": "stream",
     "text": [
      "\n",
      "[   5.11999989  512.           51.20000076]\n",
      "<NDArray 3 @cpu(0)>\n"
     ]
    }
   ],
   "source": [
    "print(a.grad)  # チュートリアルだとx.gradを出力してる…"
   ]
  },
  {
   "cell_type": "code",
   "execution_count": 11,
   "metadata": {},
   "outputs": [
    {
     "name": "stdout",
     "output_type": "stream",
     "text": [
      "\n",
      "[ 2.21220636  1.16307867  0.7740038 ]\n",
      "<NDArray 3 @cpu(0)>\n",
      "\n",
      "[ 1132.6496582    595.49627686   396.28994751]\n",
      "<NDArray 3 @cpu(0)>\n",
      "\n",
      "[ 1132.6496582    595.49627686   396.28994751]\n",
      "<NDArray 3 @cpu(0)>\n"
     ]
    }
   ],
   "source": [
    "print(a)\n",
    "print(b)\n",
    "print(c)"
   ]
  },
  {
   "cell_type": "code",
   "execution_count": 12,
   "metadata": {},
   "outputs": [
    {
     "data": {
      "text/plain": [
       "\n",
       "[ 1339.61071777]\n",
       "<NDArray 1 @cpu(0)>"
      ]
     },
     "execution_count": 12,
     "metadata": {},
     "output_type": "execute_result"
    }
   ],
   "source": [
    "nd.norm(b)\n"
   ]
  },
  {
   "cell_type": "markdown",
   "metadata": {},
   "source": [
    "c = 2^T a なのでだいたいこんな感じになる:512や1024などなど（Pythonic...なのか？）"
   ]
  }
 ],
 "metadata": {
  "kernelspec": {
   "display_name": "Python 3",
   "language": "python",
   "name": "python3"
  },
  "language_info": {
   "codemirror_mode": {
    "name": "ipython",
    "version": 3
   },
   "file_extension": ".py",
   "mimetype": "text/x-python",
   "name": "python",
   "nbconvert_exporter": "python",
   "pygments_lexer": "ipython3",
   "version": "3.5.2"
  }
 },
 "nbformat": 4,
 "nbformat_minor": 2
}
